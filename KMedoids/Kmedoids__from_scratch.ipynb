{
 "cells": [
  {
   "cell_type": "code",
   "execution_count": 7,
   "metadata": {},
   "outputs": [],
   "source": [
    "points = [ (1,2), (2,6), (12,10), (3,10), (3,8), (14,9), (4,6), (15,10), \n",
    "          (6,9), (6,11), (6,5), (7,5), (15,4), (7,2), (15,18), (4,7)]"
   ]
  },
  {
   "cell_type": "code",
   "execution_count": 8,
   "metadata": {},
   "outputs": [],
   "source": [
    "def distance(i,j):\n",
    "    dist = (abs(j[0]-i[0]) + abs(j[1]-i[1]))\n",
    "    return dist"
   ]
  },
  {
   "cell_type": "code",
   "execution_count": 9,
   "metadata": {},
   "outputs": [
    {
     "name": "stdout",
     "output_type": "stream",
     "text": [
      "Medoid point :  (6, 9)\n"
     ]
    }
   ],
   "source": [
    "#finding medoid point \n",
    "total_distances = []\n",
    "for i in range(len(points)):\n",
    "    total = 0\n",
    "    for j in range(len(points)):\n",
    "        dist = distance(points[i], points[j])\n",
    "        total += dist\n",
    "    total_distances.append(total)\n",
    "min_dist = min(total_distances)\n",
    "index = total_distances.index(min_dist)\n",
    "medoid_pt = points[index]\n",
    "print(\"Medoid point : \",medoid_pt)"
   ]
  },
  {
   "cell_type": "code",
   "execution_count": 10,
   "metadata": {},
   "outputs": [
    {
     "name": "stdout",
     "output_type": "stream",
     "text": [
      "59\n"
     ]
    }
   ],
   "source": [
    "best_combination = []\n",
    "m1 = [(12,10),(7,2),(4,7)]\n",
    "total = []\n",
    "for i in range(len(points)):\n",
    "    dist = []\n",
    "    for j in range(len(m1)):\n",
    "        d = distance(points[i],m1[j])\n",
    "        dist.append(d)\n",
    "    min_dist = min(dist)\n",
    "    total.append(min_dist)\n",
    "print(sum(total))\n",
    "best_combination.append((sum(total),\"m1\"))"
   ]
  },
  {
   "cell_type": "code",
   "execution_count": 11,
   "metadata": {},
   "outputs": [
    {
     "name": "stdout",
     "output_type": "stream",
     "text": [
      "61\n"
     ]
    }
   ],
   "source": [
    "m2 = [(12,10),(7,2),(4,6)]\n",
    "total = []\n",
    "for i in range(len(points)):\n",
    "    dist = []\n",
    "    for j in range(len(m2)):\n",
    "        d = distance(points[i],m2[j])\n",
    "        dist.append(d)\n",
    "    min_dist = min(dist)\n",
    "    total.append(min_dist)\n",
    "print(sum(total))\n",
    "best_combination.append((sum(total),\"m2\"))"
   ]
  },
  {
   "cell_type": "code",
   "execution_count": 14,
   "metadata": {},
   "outputs": [
    {
     "name": "stdout",
     "output_type": "stream",
     "text": [
      "best combination between m1 and m2 is : (59, 'm1')\n"
     ]
    }
   ],
   "source": [
    "print(f\"best combination between m1 and m2 is : {min(best_combination)}\")"
   ]
  }
 ],
 "metadata": {
  "kernelspec": {
   "display_name": "Python 3",
   "language": "python",
   "name": "python3"
  },
  "language_info": {
   "codemirror_mode": {
    "name": "ipython",
    "version": 3
   },
   "file_extension": ".py",
   "mimetype": "text/x-python",
   "name": "python",
   "nbconvert_exporter": "python",
   "pygments_lexer": "ipython3",
   "version": "3.12.3"
  }
 },
 "nbformat": 4,
 "nbformat_minor": 2
}
