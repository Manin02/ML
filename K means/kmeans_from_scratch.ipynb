{
 "cells": [
  {
   "cell_type": "code",
   "execution_count": 1,
   "metadata": {},
   "outputs": [],
   "source": [
    "import math\n",
    "import matplotlib.pyplot as plt\n",
    "import random\n",
    "# Data points\n",
    "points = [(1, 2), (2, 6), (12, 10), (3, 10), (3, 8), (14, 9), (4, 6), \n",
    "          (15, 10), (6, 9), (6, 11), (6, 5), (7, 5), (15, 4), (7, 2), \n",
    "          (15, 18), (4, 7)]\n",
    "\n",
    "# Euclidean distance function\n",
    "def euclidean_distance(p1, p2):\n",
    "    return math.sqrt((p1[0] - p2[0]) ** 2 + (p1[1] - p2[1]) ** 2)"
   ]
  },
  {
   "cell_type": "code",
   "execution_count": 2,
   "metadata": {},
   "outputs": [],
   "source": [
    "# Compute the centroid of a cluster\n",
    "def compute_centroid(cluster):\n",
    "    x_sum, y_sum = 0, 0\n",
    "    for point in cluster:\n",
    "        x_sum += point[0]\n",
    "        y_sum += point[1]\n",
    "    return (x_sum / len(cluster), y_sum / len(cluster))"
   ]
  },
  {
   "cell_type": "code",
   "execution_count": 3,
   "metadata": {},
   "outputs": [],
   "source": [
    "# K-means algorithm from scratch\n",
    "def kmeans(points, initial_centroids, k):\n",
    "    centroids = initial_centroids\n",
    "    clusters = [[] for _ in range(k)]\n",
    "    count1=0\n",
    "    while True:\n",
    "        # Assign points to the nearest centroid\n",
    "        count1+=1\n",
    "        new_clusters = [[] for _ in range(k)]\n",
    "        for point in points:\n",
    "            distances = [euclidean_distance(point, centroid) for centroid in centroids]\n",
    "            closest_idx = distances.index(min(distances))\n",
    "            new_clusters[closest_idx].append(point)\n",
    "        print(distances)\n",
    "        print(new_clusters)\n",
    "        # Compute new centroids\n",
    "        new_centroids = [compute_centroid(cluster) for cluster in new_clusters]\n",
    "        \n",
    "        # If centroids do not change, break the loop\n",
    "        if new_centroids == centroids:\n",
    "            break\n",
    "        \n",
    "        centroids = new_centroids\n",
    "        clusters = new_clusters\n",
    "    print(count1)\n",
    "    return clusters, centroids"
   ]
  },
  {
   "cell_type": "code",
   "execution_count": 4,
   "metadata": {},
   "outputs": [],
   "source": [
    "# Plotting function\n",
    "def plot_clusters(clusters, centroids):\n",
    "    colors = ['r', 'g', 'b']\n",
    "    for idx, cluster in enumerate(clusters):\n",
    "        for point in cluster:\n",
    "            plt.scatter(point[0], point[1], color=colors[idx])\n",
    "    for centroid in centroids:\n",
    "        plt.scatter(centroid[0], centroid[1], color='b', marker='x', s=50)\n",
    "    plt.show()"
   ]
  },
  {
   "cell_type": "code",
   "execution_count": 5,
   "metadata": {},
   "outputs": [
    {
     "name": "stdout",
     "output_type": "stream",
     "text": [
      "[8.54400374531753, 2.8284271247461903]\n",
      "[[(12, 10), (14, 9), (15, 10), (15, 4), (15, 18)], [(1, 2), (2, 6), (3, 10), (3, 8), (4, 6), (6, 9), (6, 11), (6, 5), (7, 5), (7, 2), (4, 7)]]\n",
      "[10.690182411914213, 0.710022697809696]\n",
      "[[(12, 10), (14, 9), (15, 10), (15, 4), (15, 18)], [(1, 2), (2, 6), (3, 10), (3, 8), (4, 6), (6, 9), (6, 11), (6, 5), (7, 5), (7, 2), (4, 7)]]\n",
      "2\n",
      "[1.4142135623730951, 11.40175425099138, 11.40175425099138]\n",
      "[[(1, 2), (2, 6), (3, 10), (3, 8), (4, 6), (6, 9), (6, 11), (6, 5), (7, 5), (7, 2), (4, 7)], [(12, 10), (14, 9), (15, 10), (15, 18)], [(15, 4)]]\n",
      "[0.710022697809696, 11.070794912742265, 11.40175425099138]\n",
      "[[(1, 2), (2, 6), (3, 10), (3, 8), (4, 6), (6, 9), (6, 11), (6, 5), (7, 5), (7, 2), (4, 7)], [(12, 10), (14, 9), (15, 10), (15, 18)], [(15, 4)]]\n",
      "2\n",
      "Clusters for k=2 [[(12, 10), (14, 9), (15, 10), (15, 4), (15, 18)], [(1, 2), (2, 6), (3, 10), (3, 8), (4, 6), (6, 9), (6, 11), (6, 5), (7, 5), (7, 2), (4, 7)]]\n",
      "Clusters for k=3 [[(1, 2), (2, 6), (3, 10), (3, 8), (4, 6), (6, 9), (6, 11), (6, 5), (7, 5), (7, 2), (4, 7)], [(12, 10), (14, 9), (15, 10), (15, 18)], [(15, 4)]]\n"
     ]
    },
    {
     "data": {
      "image/png": "[encoded data removed]",
      "text/plain": [
       "<Figure size 640x480 with 1 Axes>"
      ]
     },
     "metadata": {},
     "output_type": "display_data"
    },
    {
     "data": {
      "image/png": "[encoded data removed]",
      "text/plain": [
       "<Figure size 640x480 with 1 Axes>"
      ]
     },
     "metadata": {},
     "output_type": "display_data"
    }
   ],
   "source": [
    "# Initial centroids for k=2 and k=3\n",
    "centroids_k2 = [random.choice(points) for _ in range(2)]  # For k=2\n",
    "centroids_k3 = [random.choice(points) for _ in range(3)]  # For k=3\n",
    "# Run K-means\n",
    "clusters_k2, centroids_k2_final = kmeans(points, centroids_k2, 2)\n",
    "clusters_k3, centroids_k3_final = kmeans(points, centroids_k3, 3)\n",
    "\n",
    "print(\"Clusters for k=2\", clusters_k2)\n",
    "print(\"Clusters for k=3\",clusters_k3)\n",
    "\n",
    "# Plot clusters\n",
    "plot_clusters(clusters_k2, centroids_k2_final)\n",
    "plot_clusters(clusters_k3, centroids_k3_final)\n"
   ]
  },
  {
   "cell_type": "code",
   "execution_count": 6,
   "metadata": {},
   "outputs": [
    {
     "name": "stdout",
     "output_type": "stream",
     "text": [
      "Within-cluster distance for k=2: 237.0545454545454\n",
      "Within-cluster distance for k=3: 188.20454545454544\n"
     ]
    }
   ],
   "source": [
    "# Within-cluster distance\n",
    "def within_cluster_distance(clusters, centroids):\n",
    "    total_distance = 0\n",
    "    for i, cluster in enumerate(clusters):\n",
    "        for point in cluster:\n",
    "            total_distance += (point[0] - centroids[i][0]) ** 2 + (point[1] - centroids[i][1]) ** 2\n",
    "    return total_distance\n",
    "\n",
    "# Calculate within-cluster distances for k=2 and k=3\n",
    "wcd_k2 = within_cluster_distance(clusters_k2, centroids_k2_final)\n",
    "wcd_k3 = within_cluster_distance(clusters_k3, centroids_k3_final)\n",
    "\n",
    "print(f\"Within-cluster distance for k=2: {wcd_k2}\")\n",
    "print(f\"Within-cluster distance for k=3: {wcd_k3}\")"
   ]
  },
  {
   "cell_type": "code",
   "execution_count": null,
   "metadata": {},
   "outputs": [],
   "source": [
    "\n",
    "     "
   ]
  }
 ],
 "metadata": {
  "kernelspec": {
   "display_name": "base",
   "language": "python",
   "name": "python3"
  },
  "language_info": {
   "codemirror_mode": {
    "name": "ipython",
    "version": 3
   },
   "file_extension": ".py",
   "mimetype": "text/x-python",
   "name": "python",
   "nbconvert_exporter": "python",
   "pygments_lexer": "ipython3",
   "version": "3.12.3"
  }
 },
 "nbformat": 4,
 "nbformat_minor": 2
}
